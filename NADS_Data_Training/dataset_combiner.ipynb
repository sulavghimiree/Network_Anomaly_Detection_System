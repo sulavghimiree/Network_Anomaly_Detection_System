{
 "cells": [
  {
   "cell_type": "code",
   "execution_count": 18,
   "id": "bbea8529",
   "metadata": {},
   "outputs": [],
   "source": [
    "import pandas as pd\n",
    "import glob"
   ]
  },
  {
   "cell_type": "markdown",
   "id": "9619e716",
   "metadata": {},
   "source": [
    "DDOS Data"
   ]
  },
  {
   "cell_type": "code",
   "execution_count": 19,
   "id": "fe0bbe54",
   "metadata": {},
   "outputs": [],
   "source": [
    "csv_files = glob.glob('Dataset/DDOS/*.csv')"
   ]
  },
  {
   "cell_type": "code",
   "execution_count": 20,
   "id": "8abbedb3",
   "metadata": {},
   "outputs": [
    {
     "name": "stdout",
     "output_type": "stream",
     "text": [
      "Found files: ['Dataset/DDOS\\\\DDoS.pcap_Flow.csv', 'Dataset/DDOS\\\\DDoS_1.pcap_Flow.csv']\n"
     ]
    }
   ],
   "source": [
    "print(\"Found files:\", csv_files)"
   ]
  },
  {
   "cell_type": "code",
   "execution_count": 21,
   "id": "c3d3cb4f",
   "metadata": {},
   "outputs": [],
   "source": [
    "combined_df = pd.concat([pd.read_csv(file) for file in csv_files], ignore_index=True)"
   ]
  },
  {
   "cell_type": "code",
   "execution_count": 24,
   "id": "1366ff64",
   "metadata": {},
   "outputs": [
    {
     "data": {
      "text/plain": [
       "0         No Label\n",
       "1         No Label\n",
       "2         No Label\n",
       "3         No Label\n",
       "4         No Label\n",
       "            ...   \n",
       "190496    No Label\n",
       "190497    No Label\n",
       "190498    No Label\n",
       "190499    No Label\n",
       "190500    No Label\n",
       "Name: Label, Length: 190501, dtype: object"
      ]
     },
     "execution_count": 24,
     "metadata": {},
     "output_type": "execute_result"
    }
   ],
   "source": [
    "combined_df['Label']"
   ]
  },
  {
   "cell_type": "code",
   "execution_count": 25,
   "id": "c9dc3efb",
   "metadata": {},
   "outputs": [],
   "source": [
    "combined_df['Label'] = 'DDOS'"
   ]
  },
  {
   "cell_type": "code",
   "execution_count": 27,
   "id": "cc6c4de8",
   "metadata": {},
   "outputs": [
    {
     "data": {
      "text/plain": [
       "0         DDOS\n",
       "1         DDOS\n",
       "2         DDOS\n",
       "3         DDOS\n",
       "4         DDOS\n",
       "          ... \n",
       "190496    DDOS\n",
       "190497    DDOS\n",
       "190498    DDOS\n",
       "190499    DDOS\n",
       "190500    DDOS\n",
       "Name: Label, Length: 190501, dtype: object"
      ]
     },
     "execution_count": 27,
     "metadata": {},
     "output_type": "execute_result"
    }
   ],
   "source": [
    "combined_df['Label']"
   ]
  },
  {
   "cell_type": "code",
   "execution_count": 29,
   "id": "b6172476",
   "metadata": {},
   "outputs": [
    {
     "data": {
      "text/plain": [
       "(190501, 84)"
      ]
     },
     "execution_count": 29,
     "metadata": {},
     "output_type": "execute_result"
    }
   ],
   "source": [
    "combined_df.shape"
   ]
  },
  {
   "cell_type": "code",
   "execution_count": 30,
   "id": "cb8d7398",
   "metadata": {},
   "outputs": [],
   "source": [
    "combined_df.to_csv(\"Dataset/DDOS_Combined.csv\", index=False)"
   ]
  },
  {
   "cell_type": "markdown",
   "id": "63f3fec1",
   "metadata": {},
   "source": [
    "BruteForce Data"
   ]
  },
  {
   "cell_type": "code",
   "execution_count": 31,
   "id": "b1dfea94",
   "metadata": {},
   "outputs": [],
   "source": [
    "csv_files = glob.glob('Dataset/Ftp_BruteForce/*.csv')\n",
    "combined_df = pd.concat([pd.read_csv(file) for file in csv_files], ignore_index=True)\n",
    "combined_df['Label'] = 'BruteForce'\n",
    "combined_df.to_csv(\"Dataset/BruteForce_Combined.csv\", index=False)"
   ]
  },
  {
   "cell_type": "markdown",
   "id": "9708225d",
   "metadata": {},
   "source": [
    "Normal Data"
   ]
  },
  {
   "cell_type": "code",
   "execution_count": 32,
   "id": "c46c21a3",
   "metadata": {},
   "outputs": [],
   "source": [
    "csv_files = glob.glob('Dataset/Normal/*.csv')\n",
    "combined_df = pd.concat([pd.read_csv(file) for file in csv_files], ignore_index=True)\n",
    "combined_df['Label'] = 'Normal'\n",
    "combined_df.to_csv(\"Dataset/Normal_Combined.csv\", index=False)"
   ]
  },
  {
   "cell_type": "markdown",
   "id": "2c98b850",
   "metadata": {},
   "source": [
    "Port Scan"
   ]
  },
  {
   "cell_type": "code",
   "execution_count": 33,
   "id": "ed8c5c9e",
   "metadata": {},
   "outputs": [],
   "source": [
    "csv_files = glob.glob('Dataset/Port_Scan/*.csv')\n",
    "combined_df = pd.concat([pd.read_csv(file) for file in csv_files], ignore_index=True)\n",
    "combined_df['Label'] = 'PortScan'\n",
    "combined_df.to_csv(\"Dataset/PortScan_Combined.csv\", index=False)"
   ]
  },
  {
   "cell_type": "markdown",
   "id": "f0a8aeae",
   "metadata": {},
   "source": [
    "Sql Injection"
   ]
  },
  {
   "cell_type": "code",
   "execution_count": 34,
   "id": "82797d8b",
   "metadata": {},
   "outputs": [],
   "source": [
    "csv_files = glob.glob('Dataset/Sql_Injection/*.csv')\n",
    "combined_df = pd.concat([pd.read_csv(file) for file in csv_files], ignore_index=True)\n",
    "combined_df['Label'] = 'SqlInjection'\n",
    "combined_df.to_csv(\"Dataset/SqlInjection_Combined.csv\", index=False)"
   ]
  },
  {
   "cell_type": "markdown",
   "id": "e250804e",
   "metadata": {},
   "source": [
    "Total Combined"
   ]
  },
  {
   "cell_type": "code",
   "execution_count": 35,
   "id": "f523c137",
   "metadata": {},
   "outputs": [],
   "source": [
    "csv_files = glob.glob('Dataset/*.csv')"
   ]
  },
  {
   "cell_type": "code",
   "execution_count": 36,
   "id": "22a0c816",
   "metadata": {},
   "outputs": [
    {
     "name": "stdout",
     "output_type": "stream",
     "text": [
      "Found files: ['Dataset\\\\BruteForce_Combined.csv', 'Dataset\\\\DDOS_Combined.csv', 'Dataset\\\\Normal_Combined.csv', 'Dataset\\\\PortScan_Combined.csv', 'Dataset\\\\SqlInjection_Combined.csv']\n"
     ]
    }
   ],
   "source": [
    "print(\"Found files:\", csv_files)"
   ]
  },
  {
   "cell_type": "code",
   "execution_count": 37,
   "id": "0c7297b6",
   "metadata": {},
   "outputs": [],
   "source": [
    "combined_df = pd.concat([pd.read_csv(file) for file in csv_files], ignore_index=True)"
   ]
  },
  {
   "cell_type": "code",
   "execution_count": 38,
   "id": "01ce0701",
   "metadata": {},
   "outputs": [
    {
     "data": {
      "text/plain": [
       "array(['BruteForce', 'DDOS', 'Normal', 'PortScan', 'SqlInjection'],\n",
       "      dtype=object)"
      ]
     },
     "execution_count": 38,
     "metadata": {},
     "output_type": "execute_result"
    }
   ],
   "source": [
    "combined_df['Label'].unique()"
   ]
  },
  {
   "cell_type": "code",
   "execution_count": 39,
   "id": "15273f05",
   "metadata": {},
   "outputs": [
    {
     "data": {
      "text/plain": [
       "(736505, 84)"
      ]
     },
     "execution_count": 39,
     "metadata": {},
     "output_type": "execute_result"
    }
   ],
   "source": [
    "combined_df.shape"
   ]
  },
  {
   "cell_type": "code",
   "execution_count": 40,
   "id": "de87074d",
   "metadata": {},
   "outputs": [],
   "source": [
    "combined_df.to_csv(\"Combined_Data.csv\", index=False)"
   ]
  }
 ],
 "metadata": {
  "kernelspec": {
   "display_name": "myenv",
   "language": "python",
   "name": "python3"
  },
  "language_info": {
   "codemirror_mode": {
    "name": "ipython",
    "version": 3
   },
   "file_extension": ".py",
   "mimetype": "text/x-python",
   "name": "python",
   "nbconvert_exporter": "python",
   "pygments_lexer": "ipython3",
   "version": "3.13.2"
  }
 },
 "nbformat": 4,
 "nbformat_minor": 5
}
